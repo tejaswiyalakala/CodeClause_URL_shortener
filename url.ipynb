{
 "cells": [
  {
   "cell_type": "code",
   "execution_count": 56,
   "metadata": {},
   "outputs": [],
   "source": [
    "import tkinter as tk\n",
    "from tkinter import *\n",
    "import pyshorteners\n",
    "#long_url = input(\"Enter the URL to shorten: \")\n",
    " \n",
    "url_shortener=tk.Tk()\n",
    "url_shortener.title(\"URL shortener\")\n",
    "url_shortener.geometry(\"600x600\")\n",
    "\n",
    "def url():\n",
    "    short_url=''\n",
    "    type_tiny = pyshorteners.Shortener()\n",
    "    short_url = type_tiny.tinyurl.short(long_url.get())\n",
    "    res.set(short_url)\n",
    "    \n",
    "Label(url_shortener, text= \"Enter the Long URL:\", fg=\"Black\",font=\"Arial\").place(x=10,y=65)\n",
    "long_url=StringVar()\n",
    "Entry(url_shortener,textvariable = long_url,bg = \"white\",width = 60).place(x=210,y=70)\n",
    "Button(url_shortener,text = \"Enter\",font=40,fg=\"blue\",width = 10,command = url).place(x =150,y=150)\n",
    "Label(url_shortener, text= \"The generated short URL:\", fg=\"Black\",font=\"Arial\").place(x=10,y=95)\n",
    "res=StringVar()\n",
    "Entry(url_shortener,textvariable = res,bg = \"white\",width = 50).place(x=270,y=100)\n",
    "\n",
    "url_shortener.mainloop()"
   ]
  },
  {
   "cell_type": "code",
   "execution_count": null,
   "metadata": {},
   "outputs": [],
   "source": []
  }
 ],
 "metadata": {
  "kernelspec": {
   "display_name": "base",
   "language": "python",
   "name": "python3"
  },
  "language_info": {
   "codemirror_mode": {
    "name": "ipython",
    "version": 3
   },
   "file_extension": ".py",
   "mimetype": "text/x-python",
   "name": "python",
   "nbconvert_exporter": "python",
   "pygments_lexer": "ipython3",
   "version": "3.9.12"
  },
  "orig_nbformat": 4
 },
 "nbformat": 4,
 "nbformat_minor": 2
}
